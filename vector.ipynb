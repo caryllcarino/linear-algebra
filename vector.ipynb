{
  "nbformat": 4,
  "nbformat_minor": 0,
  "metadata": {
    "colab": {
      "name": "vector",
      "provenance": [],
      "collapsed_sections": [],
      "authorship_tag": "ABX9TyNZpyiEENVbp0YfXurO9P9J",
      "include_colab_link": true
    },
    "kernelspec": {
      "name": "python3",
      "display_name": "Python 3"
    },
    "language_info": {
      "name": "python"
    }
  },
  "cells": [
    {
      "cell_type": "markdown",
      "metadata": {
        "id": "view-in-github",
        "colab_type": "text"
      },
      "source": [
        "<a href=\"https://colab.research.google.com/github/kyriell2/linear-algebra/blob/main/vector.ipynb\" target=\"_parent\"><img src=\"https://colab.research.google.com/assets/colab-badge.svg\" alt=\"Open In Colab\"/></a>"
      ]
    },
    {
      "cell_type": "markdown",
      "metadata": {
        "id": "FIKlRu2PBNkA"
      },
      "source": [
        "Matrix and its operations"
      ]
    },
    {
      "cell_type": "code",
      "metadata": {
        "colab": {
          "base_uri": "https://localhost:8080/"
        },
        "id": "iIi36lBzAjOd",
        "outputId": "f03dea17-55e2-4e28-d5f2-f9c55cd52ce3"
      },
      "source": [
        "import numpy as np\n",
        "#Create a 1x3 array\n",
        "a = np.array ({1,2,3})\n",
        "print(a)\n"
      ],
      "execution_count": null,
      "outputs": [
        {
          "output_type": "stream",
          "name": "stdout",
          "text": [
            "{1, 2, 3}\n",
            "[4 5 6]\n"
          ]
        }
      ]
    },
    {
      "cell_type": "code",
      "metadata": {
        "colab": {
          "base_uri": "https://localhost:8080/"
        },
        "id": "WMxiRw0pCBas",
        "outputId": "919da0e8-8b33-49b8-ffda-ab9e85846195"
      },
      "source": [
        "#Create a 2 x 3m matrix\n",
        "b = np.array([[1,2,3],[4,5,6]]) #this is an example of rectangular array\n",
        "print(b)"
      ],
      "execution_count": null,
      "outputs": [
        {
          "output_type": "stream",
          "name": "stdout",
          "text": [
            "[[1 2 3]\n",
            " [4 5 6]]\n"
          ]
        }
      ]
    },
    {
      "cell_type": "code",
      "metadata": {
        "colab": {
          "base_uri": "https://localhost:8080/"
        },
        "id": "p1SpPLTTCnYc",
        "outputId": "d5fcc239-80a2-4cf5-d4ba-43d312bd90ad"
      },
      "source": [
        "#Create a matrix 3x3\n",
        "c = np.array([[1,2,3],[4,5,6],[7,8,9]])\n",
        "print(c)"
      ],
      "execution_count": null,
      "outputs": [
        {
          "output_type": "stream",
          "name": "stdout",
          "text": [
            "[[1 2 3]\n",
            " [4 5 6]\n",
            " [7 8 9]]\n"
          ]
        }
      ]
    },
    {
      "cell_type": "code",
      "metadata": {
        "colab": {
          "base_uri": "https://localhost:8080/"
        },
        "id": "8_A81EZ_DJHa",
        "outputId": "64b95f9a-482d-45a2-ee8d-0e2d0711a654"
      },
      "source": [
        "#create a constant array with all values are 6\n",
        "d = np.full((5,5),6)\n",
        "print(d)"
      ],
      "execution_count": null,
      "outputs": [
        {
          "output_type": "stream",
          "name": "stdout",
          "text": [
            "[[6 6 6 6 6]\n",
            " [6 6 6 6 6]\n",
            " [6 6 6 6 6]\n",
            " [6 6 6 6 6]\n",
            " [6 6 6 6 6]]\n"
          ]
        }
      ]
    },
    {
      "cell_type": "code",
      "metadata": {
        "colab": {
          "base_uri": "https://localhost:8080/"
        },
        "id": "ho2TZRgoDkd9",
        "outputId": "c3581c97-0913-439e-91b7-8abacf372a14"
      },
      "source": [
        "#create a diagonal matrix\n",
        "a = np.array([[1,2,3],[4,5,6],[7,8,9]])\n",
        "print(a)\n",
        "a = np.diagonal([[1,2,3],[4,5,6],[7,8,9]])\n",
        "print(a)\n",
        "\n",
        "\n",
        "\n"
      ],
      "execution_count": null,
      "outputs": [
        {
          "output_type": "stream",
          "name": "stdout",
          "text": [
            "[[1 2 3]\n",
            " [4 5 6]\n",
            " [7 8 9]]\n",
            "[1 5 9]\n"
          ]
        }
      ]
    },
    {
      "cell_type": "code",
      "metadata": {
        "colab": {
          "base_uri": "https://localhost:8080/"
        },
        "id": "bvEZ2QkbKlXp",
        "outputId": "af44c816-a777-49c5-af5b-4710ed72b10a"
      },
      "source": [
        "## Creating a constant array with all values are constant\n",
        "d =np.full([3,3],8) ## can use []\n",
        "d_2 =np.full((3,3),0) ## <-- Square Matrix\n",
        "print(d)\n",
        "print(d_2)"
      ],
      "execution_count": null,
      "outputs": [
        {
          "output_type": "stream",
          "name": "stdout",
          "text": [
            "[[8 8 8]\n",
            " [8 8 8]\n",
            " [8 8 8]]\n",
            "[[0 0 0]\n",
            " [0 0 0]\n",
            " [0 0 0]]\n"
          ]
        }
      ]
    },
    {
      "cell_type": "code",
      "metadata": {
        "colab": {
          "base_uri": "https://localhost:8080/"
        },
        "id": "UuANRsrOKs3g",
        "outputId": "dfe90d96-f65e-4c98-82e9-c8ef1a6db53a"
      },
      "source": [
        "## Creating a diagonal matrix\n",
        "e = np.diagonal(c)\n",
        "print(c)\n",
        "print(e)"
      ],
      "execution_count": null,
      "outputs": [
        {
          "output_type": "stream",
          "name": "stdout",
          "text": [
            "[[1 2 3]\n",
            " [4 5 6]\n",
            " [7 8 9]]\n",
            "[1 5 9]\n"
          ]
        }
      ]
    },
    {
      "cell_type": "code",
      "metadata": {
        "id": "dWWy5nqDKuy1"
      },
      "source": [
        "## Creating an identity matrix\n",
        "f = np.eye(6,dtype=int)\n",
        "print(f)"
      ],
      "execution_count": null,
      "outputs": []
    },
    {
      "cell_type": "code",
      "metadata": {
        "id": "GHkNfmxHKw5r"
      },
      "source": [
        "## Creating a zero matrix\n",
        "g = np.zeros((4,8),dtype=int)\n",
        "print(g)"
      ],
      "execution_count": null,
      "outputs": []
    },
    {
      "cell_type": "code",
      "metadata": {
        "id": "LGGyXoFiKzUm"
      },
      "source": [
        "## Creating an empty matrix\n",
        "h = np.empty((0,99))\n",
        "h_2 = np.empty((5,2)) ## ??????\n",
        "print(h)\n",
        "print(h_2)"
      ],
      "execution_count": null,
      "outputs": []
    },
    {
      "cell_type": "code",
      "metadata": {
        "colab": {
          "base_uri": "https://localhost:8080/"
        },
        "id": "nW9Cagi4K0fz",
        "outputId": "5e6ca9ab-c253-4763-c99a-3bc583bba589"
      },
      "source": [
        "\n",
        "## Addition of Matrices\n",
        "i = np.array([[1,2,3],[4,5,6],[7,8,9]])\n",
        "j = np.zeros((3,3),dtype=int) ## float + int = float; int + int = int\n",
        "print(i+j)"
      ],
      "execution_count": null,
      "outputs": [
        {
          "output_type": "stream",
          "name": "stdout",
          "text": [
            "[[1 2 3]\n",
            " [4 5 6]\n",
            " [7 8 9]]\n"
          ]
        }
      ]
    },
    {
      "cell_type": "code",
      "metadata": {
        "colab": {
          "base_uri": "https://localhost:8080/"
        },
        "id": "boCv3tubK1Y8",
        "outputId": "d5e0ffcc-fced-41eb-dbe0-0718f7fd7972"
      },
      "source": [
        "## Subtraction of Matrices\n",
        "j = np.array([[-1,-2,-3],[-4,-5,-6],[-7,-8,-9]])\n",
        "print(i-j)"
      ],
      "execution_count": null,
      "outputs": [
        {
          "output_type": "stream",
          "name": "stdout",
          "text": [
            "[[ 2  4  6]\n",
            " [ 8 10 12]\n",
            " [14 16 18]]\n"
          ]
        }
      ]
    }
  ]
}