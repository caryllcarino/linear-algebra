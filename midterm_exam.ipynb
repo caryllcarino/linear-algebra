{
  "nbformat": 4,
  "nbformat_minor": 0,
  "metadata": {
    "colab": {
      "name": "midterm exam",
      "provenance": [],
      "authorship_tag": "ABX9TyO3rPPp5CkeTqRwyP0t0hqf",
      "include_colab_link": true
    },
    "kernelspec": {
      "name": "python3",
      "display_name": "Python 3"
    },
    "language_info": {
      "name": "python"
    }
  },
  "cells": [
    {
      "cell_type": "markdown",
      "metadata": {
        "id": "view-in-github",
        "colab_type": "text"
      },
      "source": [
        "<a href=\"https://colab.research.google.com/github/kyriell2/linear-algebra/blob/main/midterm_exam.ipynb\" target=\"_parent\"><img src=\"https://colab.research.google.com/assets/colab-badge.svg\" alt=\"Open In Colab\"/></a>"
      ]
    },
    {
      "cell_type": "code",
      "metadata": {
        "colab": {
          "base_uri": "https://localhost:8080/"
        },
        "id": "75r9zmqb5oo2",
        "outputId": "af3ff79e-7ea3-4011-aecc-c324a0f00016"
      },
      "source": [
        "import numpy as np\n",
        "a = (5,5)  \n",
        "b = np.zeros(s)\n",
        "print(\"\\nMatrix a is \\n\", b)"
      ],
      "execution_count": 34,
      "outputs": [
        {
          "output_type": "stream",
          "name": "stdout",
          "text": [
            "\n",
            "Matrix a is \n",
            " [[0. 0. 0. 0. 0.]\n",
            " [0. 0. 0. 0. 0.]\n",
            " [0. 0. 0. 0. 0.]\n",
            " [0. 0. 0. 0. 0.]\n",
            " [0. 0. 0. 0. 0.]]\n"
          ]
        }
      ]
    },
    {
      "cell_type": "markdown",
      "metadata": {
        "id": "Y-RWNXuH_gzB"
      },
      "source": [
        "Question 2"
      ]
    },
    {
      "cell_type": "code",
      "metadata": {
        "colab": {
          "base_uri": "https://localhost:8080/"
        },
        "id": "GpxIWjFr_ZmE",
        "outputId": "07e0a179-acd7-48de-dd59-2e73f28d8c81"
      },
      "source": [
        "A = np.triu([[1,2,3],[4,5,6],[7,8,9],[10,11,12]])\n",
        "print(A)"
      ],
      "execution_count": 55,
      "outputs": [
        {
          "output_type": "stream",
          "name": "stdout",
          "text": [
            "[[1 2 3]\n",
            " [0 5 6]\n",
            " [0 0 9]\n",
            " [0 0 0]]\n"
          ]
        }
      ]
    },
    {
      "cell_type": "markdown",
      "metadata": {
        "id": "PiRx2JTu_h6W"
      },
      "source": [
        "Question 3"
      ]
    },
    {
      "cell_type": "code",
      "metadata": {
        "colab": {
          "base_uri": "https://localhost:8080/"
        },
        "id": "BWMkCZ8d_ZtQ",
        "outputId": "e01a20fa-0bd6-46f7-f6d6-bae51ca99b63"
      },
      "source": [
        "a = np.array([[11,34,24,12,11],[42,32,56,74,74],[11,13,15,16,17],[12,53,36,74,85],[12,42,19,91,83]])\n",
        "\n",
        "#Print a square matrix which symmetrical\n",
        "print(a)"
      ],
      "execution_count": 49,
      "outputs": [
        {
          "output_type": "stream",
          "name": "stdout",
          "text": [
            "[[11 34 24 12 11]\n",
            " [42 32 56 74 74]\n",
            " [11 13 15 16 17]\n",
            " [12 53 36 74 85]\n",
            " [12 42 19 91 83]]\n"
          ]
        }
      ]
    },
    {
      "cell_type": "markdown",
      "metadata": {
        "id": "ZBDETNeq_i01"
      },
      "source": [
        "Question 4"
      ]
    },
    {
      "cell_type": "code",
      "metadata": {
        "colab": {
          "base_uri": "https://localhost:8080/"
        },
        "id": "r4nJp5vN_ZxD",
        "outputId": "39e7122e-26b4-4ee5-b171-a9926fc3f0bf"
      },
      "source": [
        "A = np.array ([[1,2,3],[4,5,-6],[7,8,9]])\n",
        "\n",
        "invC = np.linalg.inv(A) #Inverse of Matrix C\n",
        "\n",
        "print(invC)\n"
      ],
      "execution_count": 46,
      "outputs": [
        {
          "output_type": "stream",
          "name": "stdout",
          "text": [
            "[[-1.29166667 -0.08333333  0.375     ]\n",
            " [ 1.08333333  0.16666667 -0.25      ]\n",
            " [ 0.04166667 -0.08333333  0.04166667]]\n"
          ]
        }
      ]
    },
    {
      "cell_type": "markdown",
      "metadata": {
        "id": "YhvuEqug_kbd"
      },
      "source": [
        "Question 5"
      ]
    },
    {
      "cell_type": "code",
      "metadata": {
        "colab": {
          "base_uri": "https://localhost:8080/"
        },
        "id": "3JegFe_u_aB_",
        "outputId": "fc9def9d-63fc-478e-da88-0c08745578c4"
      },
      "source": [
        "A = np.array ([[1,2,3],[2,3,3],[3,4,-2]])\n",
        "\n",
        "detofA = np.linalg.det(A)\n",
        "print(\"Determinant is =  \",int(detofA))\n"
      ],
      "execution_count": 57,
      "outputs": [
        {
          "output_type": "stream",
          "name": "stdout",
          "text": [
            "Determinant is =   5\n"
          ]
        }
      ]
    },
    {
      "cell_type": "markdown",
      "metadata": {
        "id": "BuEEYe0-_lfS"
      },
      "source": [
        "Question 6"
      ]
    },
    {
      "cell_type": "code",
      "metadata": {
        "colab": {
          "base_uri": "https://localhost:8080/"
        },
        "id": "KUfoMmx1_aH_",
        "outputId": "12ab2baf-3801-44bf-b776-62bf25b843d9"
      },
      "source": [
        "A = np.array([[5,4,1],[10,9,4],[10,13,15]])\n",
        "B = np.array([[3.4],[8.8],[19.2]])\n",
        "x = np.linalg.solve(A, B)\n",
        "print(x)"
      ],
      "execution_count": 58,
      "outputs": [
        {
          "output_type": "stream",
          "name": "stdout",
          "text": [
            "[[0.2]\n",
            " [0.4]\n",
            " [0.8]]\n"
          ]
        }
      ]
    }
  ]
}