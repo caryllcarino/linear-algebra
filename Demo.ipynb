{
  "nbformat": 4,
  "nbformat_minor": 0,
  "metadata": {
    "colab": {
      "name": "Demo",
      "provenance": [],
      "authorship_tag": "ABX9TyMEPRNEqGf3zvmpKxRArkpX",
      "include_colab_link": true
    },
    "kernelspec": {
      "name": "python3",
      "display_name": "Python 3"
    },
    "language_info": {
      "name": "python"
    }
  },
  "cells": [
    {
      "cell_type": "markdown",
      "metadata": {
        "id": "view-in-github",
        "colab_type": "text"
      },
      "source": [
        "<a href=\"https://colab.research.google.com/github/kyriell2/linear-algebra/blob/main/Demo.ipynb\" target=\"_parent\"><img src=\"https://colab.research.google.com/assets/colab-badge.svg\" alt=\"Open In Colab\"/></a>"
      ]
    },
    {
      "cell_type": "code",
      "metadata": {
        "colab": {
          "base_uri": "https://localhost:8080/"
        },
        "id": "0HZ5FQWKi426",
        "outputId": "e429bf3b-db77-41d8-9f7e-953d193d82f1"
      },
      "source": [
        "import numpy as np\n",
        "\n",
        "A = np.array([[4,10,8],[10,26,26],[8,26,26]])\n",
        "print(A)\n",
        "inv_A=np.linalg.inv(A)\n",
        "\n",
        "print(inv_A)\n",
        "B = np.array([[44],[128],[214]])\n",
        "print(B)\n",
        "X = np.dot(inv_A,B)\n",
        "print(X)"
      ],
      "execution_count": 2,
      "outputs": [
        {
          "output_type": "stream",
          "name": "stdout",
          "text": [
            "[[ 4 10  8]\n",
            " [10 26 26]\n",
            " [ 8 26 26]]\n",
            "[[ 0.          0.5        -0.5       ]\n",
            " [ 0.5        -0.38461538  0.23076923]\n",
            " [-0.5         0.23076923 -0.03846154]]\n",
            "[[ 44]\n",
            " [128]\n",
            " [214]]\n",
            "[[-43.        ]\n",
            " [ 22.15384615]\n",
            " [ -0.69230769]]\n"
          ]
        }
      ]
    }
  ]
}