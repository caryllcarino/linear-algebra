{
  "nbformat": 4,
  "nbformat_minor": 0,
  "metadata": {
    "colab": {
      "name": "final exam",
      "provenance": [],
      "authorship_tag": "ABX9TyN01uOhqik10K5uDgSPRzvM",
      "include_colab_link": true
    },
    "kernelspec": {
      "name": "python3",
      "display_name": "Python 3"
    },
    "language_info": {
      "name": "python"
    }
  },
  "cells": [
    {
      "cell_type": "markdown",
      "metadata": {
        "id": "view-in-github",
        "colab_type": "text"
      },
      "source": [
        "<a href=\"https://colab.research.google.com/github/kyriell2/linear-algebra/blob/main/final_exam.ipynb\" target=\"_parent\"><img src=\"https://colab.research.google.com/assets/colab-badge.svg\" alt=\"Open In Colab\"/></a>"
      ]
    },
    {
      "cell_type": "code",
      "execution_count": 29,
      "metadata": {
        "colab": {
          "base_uri": "https://localhost:8080/"
        },
        "id": "YtyjZ4UVIXUg",
        "outputId": "99ace202-9345-4eba-e953-9dd2982275dd"
      },
      "outputs": [
        {
          "output_type": "stream",
          "name": "stdout",
          "text": [
            "[[13.]\n",
            " [57.]\n",
            " [19.]]\n"
          ]
        }
      ],
      "source": [
        "import numpy as np\n",
        "\n",
        "e1= np.array([[1,1,1],[1,0,4],[0,0,5]]) #declaring matrix1\n",
        "e2= np.array([[89],[89],[95]]) #declaring matrix2\n",
        "x= np.linalg.inv(e1).dot(e2) \n",
        "print(x) #to print the output"
      ]
    },
    {
      "cell_type": "markdown",
      "source": [
        "Problem 2\n",
        "It is a singular matrix we cannot solve these, we can use the PINV function to  calculate the generalized inverse of a matrix using its singular-value decomposition. np.linalg solve cannot be use because it is singularmatrix whose determinant is zero"
      ],
      "metadata": {
        "id": "FaE51yt0OS4F"
      }
    },
    {
      "cell_type": "code",
      "source": [
        "A = np.array([[3,-1,1],[9,-3,3],[-12,4,-4]])\n",
        "print(A)\n",
        "B = np.array([[5],[15],[-20]])\n",
        "print (b)\n",
        "\n",
        "# compute the pseudo inverse of A\n",
        "\n",
        "Apinv = np.linalg.pinv(A)\n",
        "\n",
        "\n",
        "x = Apinv.dot(b)\n",
        "print(x)"
      ],
      "metadata": {
        "colab": {
          "base_uri": "https://localhost:8080/"
        },
        "id": "LecGw5yQLVmA",
        "outputId": "75886dc3-6209-4e5d-e5f1-5bbddfbae5ce"
      },
      "execution_count": 24,
      "outputs": [
        {
          "output_type": "stream",
          "name": "stdout",
          "text": [
            "[[  3  -1   1]\n",
            " [  9  -3   3]\n",
            " [-12   4  -4]]\n",
            "[[  5]\n",
            " [ 15]\n",
            " [-20]]\n",
            "[[ 1.36363636]\n",
            " [-0.45454545]\n",
            " [ 0.45454545]]\n"
          ]
        }
      ]
    },
    {
      "cell_type": "markdown",
      "source": [
        "Problem 3"
      ],
      "metadata": {
        "id": "ksw_4wFQLWqO"
      }
    },
    {
      "cell_type": "code",
      "source": [
        "from numpy.linalg import eig\n",
        "\n",
        "\n",
        "A = np.array([[8,5,-6],[-12,-9,12],[-3,-3,5]])\n",
        "print(A,\"\\n\")\n",
        "w,v = np.linalg.eig(A)\n",
        "\n",
        "\n",
        "print(\"The eigenvalue/s is/are:\",w.round())\n",
        "print(\"The eigenvector/s is/are:\",v.round())\n"
      ],
      "metadata": {
        "colab": {
          "base_uri": "https://localhost:8080/"
        },
        "id": "BidDhlPuLWMA",
        "outputId": "fd4a3d66-e6e3-427b-ae8f-e2fbcd49dca0"
      },
      "execution_count": 30,
      "outputs": [
        {
          "output_type": "stream",
          "name": "stdout",
          "text": [
            "[[  8   5  -6]\n",
            " [-12  -9  12]\n",
            " [ -3  -3   5]] \n",
            "\n",
            "The eigenvalue/s is/are: [-1.  3.  2.]\n",
            "The eigenvector/s is/are: [[ 0. -1.  1.]\n",
            " [-1.  1.  0.]\n",
            " [-0. -0.  1.]]\n"
          ]
        }
      ]
    }
  ]
}