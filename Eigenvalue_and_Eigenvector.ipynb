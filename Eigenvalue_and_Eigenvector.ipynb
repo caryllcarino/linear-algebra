{
  "nbformat": 4,
  "nbformat_minor": 0,
  "metadata": {
    "colab": {
      "name": "Eigenvalue and Eigenvector.ipynb",
      "provenance": [],
      "authorship_tag": "ABX9TyPtl/9qdKjH+rbpdPMDxiKY",
      "include_colab_link": true
    },
    "kernelspec": {
      "name": "python3",
      "display_name": "Python 3"
    },
    "language_info": {
      "name": "python"
    }
  },
  "cells": [
    {
      "cell_type": "markdown",
      "metadata": {
        "id": "view-in-github",
        "colab_type": "text"
      },
      "source": [
        "<a href=\"https://colab.research.google.com/github/kyriell2/linear-algebra/blob/main/Eigenvalue_and_Eigenvector.ipynb\" target=\"_parent\"><img src=\"https://colab.research.google.com/assets/colab-badge.svg\" alt=\"Open In Colab\"/></a>"
      ]
    },
    {
      "cell_type": "code",
      "metadata": {
        "colab": {
          "base_uri": "https://localhost:8080/"
        },
        "id": "CAPpwpXcmFDP",
        "outputId": "ffd016c3-6c45-483b-f105-fbadec51c959"
      },
      "source": [
        "import numpy as np\n",
        "from numpy.linalg import eig\n",
        "\n",
        "A = np.array([[-5,3],[8,6]])\n",
        "print(A)\n",
        "\n",
        "inv_A = np.linalg.inv(A)\n",
        "print(inv_A)\n",
        "\n",
        "B=np.array([[0],[0]])\n",
        "print(B)\n",
        "\n",
        "X=np.dot(inv_A,B)\n",
        "print(X)\n"
      ],
      "execution_count": 3,
      "outputs": [
        {
          "output_type": "stream",
          "name": "stdout",
          "text": [
            "[[-5  3]\n",
            " [ 8  6]]\n",
            "[[-0.11111111  0.05555556]\n",
            " [ 0.14814815  0.09259259]]\n",
            "[[0]\n",
            " [0]]\n",
            "[[0.]\n",
            " [0.]]\n"
          ]
        }
      ]
    },
    {
      "cell_type": "code",
      "metadata": {
        "colab": {
          "base_uri": "https://localhost:8080/"
        },
        "id": "wNj-YUiS1MSw",
        "outputId": "6e2bb0e1-a350-4a12-9156-13839698ea15"
      },
      "source": [
        "#Example 1\n",
        "A=np.array([[-3,8],[4,9]])\n",
        "print(A)\n",
        "\n",
        "w,v=np.linalg.eig(A)\n",
        "print(\"The eigenvalue/s is/are\",w)\n",
        "print(\"The eigenvector/s is/are\",v)"
      ],
      "execution_count": 4,
      "outputs": [
        {
          "output_type": "stream",
          "name": "stdout",
          "text": [
            "[[-3  8]\n",
            " [ 4  9]]\n",
            "The eigenvalue/s is/are [-5.24621125 11.24621125]\n",
            "The eigenvector/s is/are [[-0.96276969 -0.48963374]\n",
            " [ 0.27032301 -0.87192821]]\n"
          ]
        }
      ]
    },
    {
      "cell_type": "code",
      "metadata": {
        "colab": {
          "base_uri": "https://localhost:8080/"
        },
        "id": "_ZPpoYEF1MYl",
        "outputId": "63adb71e-a7b7-4767-ecbc-9e8ee0a33d17"
      },
      "source": [
        "#Example 2\n",
        "A=np.array([[1,2,3],[4,5,6],[7,8,9]])\n",
        "print(A)\n",
        "\n",
        "w,v = np.linalg.eig(A)\n",
        "print(\"The eigenvalue/s is/are:\",w.round())\n",
        "print(\"The eigenvector/s is/are:\",v.round())\n",
        "\n",
        "x=np.dot(A,v.round())\n",
        "print(x)\n",
        "\n",
        "X=np.array([[-1],[1],[-0]])\n",
        "Y=np.array([[-1],[1],[-1]])\n",
        "Z=np.array([[-1],[0],[-1]])\n",
        "\n",
        "\n",
        "d=np.dot(A,X)\n",
        "print(d)\n",
        "e=np.dot(A,Y)\n",
        "print(e)\n",
        "f=np.dot(A,Z)\n",
        "print(f)"
      ],
      "execution_count": 5,
      "outputs": [
        {
          "output_type": "stream",
          "name": "stdout",
          "text": [
            "[[1 2 3]\n",
            " [4 5 6]\n",
            " [7 8 9]]\n",
            "The eigenvalue/s is/are: [16. -1. -0.]\n",
            "The eigenvector/s is/are: [[-0. -1.  0.]\n",
            " [-1. -0. -1.]\n",
            " [-1.  1.  0.]]\n",
            "[[ -5.   2.  -2.]\n",
            " [-11.   2.  -5.]\n",
            " [-17.   2.  -8.]]\n",
            "[[1]\n",
            " [1]\n",
            " [1]]\n",
            "[[-2]\n",
            " [-5]\n",
            " [-8]]\n",
            "[[ -4]\n",
            " [-10]\n",
            " [-16]]\n"
          ]
        }
      ]
    }
  ]
}