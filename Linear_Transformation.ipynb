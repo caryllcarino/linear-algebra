{
  "nbformat": 4,
  "nbformat_minor": 0,
  "metadata": {
    "colab": {
      "name": "Linear Transformation",
      "provenance": [],
      "authorship_tag": "ABX9TyPDNZm7We3CGN4juysFFHOa",
      "include_colab_link": true
    },
    "kernelspec": {
      "name": "python3",
      "display_name": "Python 3"
    },
    "language_info": {
      "name": "python"
    }
  },
  "cells": [
    {
      "cell_type": "markdown",
      "metadata": {
        "id": "view-in-github",
        "colab_type": "text"
      },
      "source": [
        "<a href=\"https://colab.research.google.com/github/kyriell2/linear-algebra/blob/main/Linear_Transformation.ipynb\" target=\"_parent\"><img src=\"https://colab.research.google.com/assets/colab-badge.svg\" alt=\"Open In Colab\"/></a>"
      ]
    },
    {
      "cell_type": "code",
      "metadata": {
        "colab": {
          "base_uri": "https://localhost:8080/"
        },
        "id": "ISHJzeAJlp8f",
        "outputId": "64ad664a-24ba-46b9-840c-60341c338c07"
      },
      "source": [
        "import numpy as np\n",
        "\n",
        "# Creating the matrix\n",
        "A = np.array([[1,1,1],[1,2,2],[1,2,3]])\n",
        "B = np.array([5,6,8])\n",
        "print(A)\n",
        "print(B)\n",
        "\n",
        "\n",
        "\n",
        "# Solving for inverse of A\n",
        "A_inv = np.linalg.inv(A)\n",
        "print(A_inv)\n",
        "\n",
        "# Solving for BA^-1\n",
        "X = np.dot(A_inv, B)\n",
        "print(X)"
      ],
      "execution_count": 9,
      "outputs": [
        {
          "output_type": "stream",
          "name": "stdout",
          "text": [
            "[[1 1 1]\n",
            " [1 2 2]\n",
            " [1 2 3]]\n",
            "[5 6 8]\n",
            "[[ 2. -1.  0.]\n",
            " [-1.  2. -1.]\n",
            " [ 0. -1.  1.]]\n",
            "[ 4. -1.  2.]\n"
          ]
        }
      ]
    }
  ]
}