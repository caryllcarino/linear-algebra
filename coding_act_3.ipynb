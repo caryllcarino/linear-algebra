{
  "nbformat": 4,
  "nbformat_minor": 0,
  "metadata": {
    "colab": {
      "name": "coding act #3",
      "provenance": [],
      "authorship_tag": "ABX9TyO9W4C6JXMajzfs9/CHkFCz",
      "include_colab_link": true
    },
    "kernelspec": {
      "name": "python3",
      "display_name": "Python 3"
    },
    "language_info": {
      "name": "python"
    }
  },
  "cells": [
    {
      "cell_type": "markdown",
      "metadata": {
        "id": "view-in-github",
        "colab_type": "text"
      },
      "source": [
        "<a href=\"https://colab.research.google.com/github/kyriell2/linear-algebra/blob/main/coding_act_3.ipynb\" target=\"_parent\"><img src=\"https://colab.research.google.com/assets/colab-badge.svg\" alt=\"Open In Colab\"/></a>"
      ]
    },
    {
      "cell_type": "markdown",
      "metadata": {
        "id": "AbVCi59Ku-yx"
      },
      "source": [
        "Coding act #3"
      ]
    },
    {
      "cell_type": "code",
      "metadata": {
        "colab": {
          "base_uri": "https://localhost:8080/"
        },
        "id": "Dv73lmVMwjWj",
        "outputId": "2c106341-629f-4a7b-cb65-98617c45aedc"
      },
      "source": [
        "#Python program to inverse and transpose a 3x3 matrix\n",
        "\n",
        "\n",
        "import numpy as np\n",
        "A = np.array([[1,-2,3],[4,25,17],[8,9,-10]])\n",
        "print(A,\"\\n\")\n",
        "\n",
        "#transposing the matrix\n",
        "\n",
        "B = np.transpose(A)\n",
        "print(B)"
      ],
      "execution_count": 28,
      "outputs": [
        {
          "output_type": "stream",
          "name": "stdout",
          "text": [
            "[[  1  -2   3]\n",
            " [  4  25  17]\n",
            " [  8   9 -10]] \n",
            "\n",
            "[[  1   4   8]\n",
            " [ -2  25   9]\n",
            " [  3  17 -10]]\n"
          ]
        }
      ]
    },
    {
      "cell_type": "code",
      "metadata": {
        "colab": {
          "base_uri": "https://localhost:8080/"
        },
        "id": "sU4VGZzp16kM",
        "outputId": "c84f4adb-8a64-4733-e6e5-3e0699416603"
      },
      "source": [
        "#inversing the matrix\n",
        "\n",
        "B = np.linalg.inv(A) \n",
        "print(B)"
      ],
      "execution_count": 36,
      "outputs": [
        {
          "output_type": "stream",
          "name": "stdout",
          "text": [
            "[[ 0.32317562 -0.00561347  0.08740978]\n",
            " [-0.14113873  0.02726544  0.00400962]\n",
            " [ 0.13151564  0.02004812 -0.02646351]]\n"
          ]
        }
      ]
    },
    {
      "cell_type": "code",
      "metadata": {
        "colab": {
          "base_uri": "https://localhost:8080/"
        },
        "id": "5Uu7hRFX2J84",
        "outputId": "bbb68f9c-28d5-49be-d2af-a4503a750b58"
      },
      "source": [
        "#Python program to inverse and transpose a 4x4 matrix\n",
        "C = np.array([[1,2,3,-4],[4,5,-6,7],[8,9,-10,11],[12,13,14,-15]])\n",
        "print(C,\"\\n\")\n",
        "\n",
        "#tansposing the matrix\n",
        "D = np.transpose(C)\n",
        "print(D,\"\\n\")\n",
        "\n",
        "\n",
        "#inversing the matrix\n",
        "invC = np.linalg.inv(C)\n",
        "print(invC)"
      ],
      "execution_count": 34,
      "outputs": [
        {
          "output_type": "stream",
          "name": "stdout",
          "text": [
            "[[  1   2   3  -4]\n",
            " [  4   5  -6   7]\n",
            " [  8   9 -10  11]\n",
            " [ 12  13  14 -15]] \n",
            "\n",
            "[[  1   4   8  12]\n",
            " [  2   5   9  13]\n",
            " [  3  -6 -10  14]\n",
            " [ -4   7  11 -15]] \n",
            "\n",
            "[[-0.59090909 -1.125       0.625       0.09090909]\n",
            " [ 0.54545455  1.         -0.5        -0.04545455]\n",
            " [-0.68181818  1.375      -0.875       0.18181818]\n",
            " [-0.63636364  1.25       -0.75        0.13636364]]\n"
          ]
        }
      ]
    }
  ]
}