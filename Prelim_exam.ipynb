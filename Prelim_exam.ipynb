{
  "nbformat": 4,
  "nbformat_minor": 0,
  "metadata": {
    "colab": {
      "name": "Prelim exam",
      "provenance": [],
      "authorship_tag": "ABX9TyOaOdleUJJE9VwOJkPrmyuW",
      "include_colab_link": true
    },
    "kernelspec": {
      "name": "python3",
      "display_name": "Python 3"
    },
    "language_info": {
      "name": "python"
    }
  },
  "cells": [
    {
      "cell_type": "markdown",
      "metadata": {
        "id": "view-in-github",
        "colab_type": "text"
      },
      "source": [
        "<a href=\"https://colab.research.google.com/github/kyriell2/linear-algebra/blob/main/Prelim_exam.ipynb\" target=\"_parent\"><img src=\"https://colab.research.google.com/assets/colab-badge.svg\" alt=\"Open In Colab\"/></a>"
      ]
    },
    {
      "cell_type": "markdown",
      "metadata": {
        "id": "renfETB4hbtt"
      },
      "source": [
        "Question 1."
      ]
    },
    {
      "cell_type": "code",
      "metadata": {
        "colab": {
          "base_uri": "https://localhost:8080/"
        },
        "id": "e8zDv2rqhk5b",
        "outputId": "723cbd61-c78f-43c6-ed6a-22508c485c98"
      },
      "source": [
        "import numpy as np\n",
        "\n",
        "# creating 4 x 4 matrix\n",
        "c = np.zeros((4,4))\n",
        "# filling matrix's diagonal with the value of 1\n",
        "np.fill_diagonal(c,1)\n",
        "# printing the output\n",
        "print(c)"
      ],
      "execution_count": 32,
      "outputs": [
        {
          "output_type": "stream",
          "name": "stdout",
          "text": [
            "[[1. 0. 0. 0.]\n",
            " [0. 1. 0. 0.]\n",
            " [0. 0. 1. 0.]\n",
            " [0. 0. 0. 1.]]\n"
          ]
        }
      ]
    },
    {
      "cell_type": "markdown",
      "metadata": {
        "id": "zGfNVPwkkm6P"
      },
      "source": [
        "Question 2."
      ]
    },
    {
      "cell_type": "code",
      "metadata": {
        "colab": {
          "base_uri": "https://localhost:8080/"
        },
        "id": "kh9XG26Jkn4j",
        "outputId": "41996bdd-80af-406a-85da-033d9ca31d37"
      },
      "source": [
        "# solution that doubles all the values of each elemen\n",
        "array = np.multiply(2,c)\n",
        "\n",
        "#printing the output\n",
        "print(array)"
      ],
      "execution_count": 31,
      "outputs": [
        {
          "output_type": "stream",
          "name": "stdout",
          "text": [
            "[[2. 0. 0. 0.]\n",
            " [0. 2. 0. 0.]\n",
            " [0. 0. 2. 0.]\n",
            " [0. 0. 0. 2.]]\n"
          ]
        }
      ]
    },
    {
      "cell_type": "markdown",
      "metadata": {
        "id": "M8XPA5xgnqRB"
      },
      "source": [
        "Question 3"
      ]
    },
    {
      "cell_type": "code",
      "metadata": {
        "colab": {
          "base_uri": "https://localhost:8080/"
        },
        "id": "AFqlmqk8nreL",
        "outputId": "5a2b8010-8c87-42f0-8153-3a34dfeb19d9"
      },
      "source": [
        "# find the cross product of matrices\n",
        "\n",
        "A = np.array([2,7,4])\n",
        "B = np.array([3,9,8])\n",
        "\n",
        "\n",
        "# compute the cross product\n",
        "\n",
        "product = np.cross(A,B)\n",
        "print(product)"
      ],
      "execution_count": 28,
      "outputs": [
        {
          "output_type": "stream",
          "name": "stdout",
          "text": [
            "[20 -4 -3]\n"
          ]
        }
      ]
    }
  ]
}