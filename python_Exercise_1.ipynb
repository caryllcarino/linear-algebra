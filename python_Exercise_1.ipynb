{
  "nbformat": 4,
  "nbformat_minor": 0,
  "metadata": {
    "colab": {
      "name": "python Exercise 1.ipynb ",
      "provenance": [],
      "authorship_tag": "ABX9TyNiLRCVcMKAOwqg9lGMbQaC",
      "include_colab_link": true
    },
    "kernelspec": {
      "name": "python3",
      "display_name": "Python 3"
    },
    "language_info": {
      "name": "python"
    }
  },
  "cells": [
    {
      "cell_type": "markdown",
      "metadata": {
        "id": "view-in-github",
        "colab_type": "text"
      },
      "source": [
        "<a href=\"https://colab.research.google.com/github/kyriell2/linear-algebra/blob/main/python_Exercise_1.ipynb\" target=\"_parent\"><img src=\"https://colab.research.google.com/assets/colab-badge.svg\" alt=\"Open In Colab\"/></a>"
      ]
    },
    {
      "cell_type": "code",
      "metadata": {
        "id": "xFhX0EmqM93a"
      },
      "source": [
        "import numpy as np\n"
      ],
      "execution_count": 13,
      "outputs": []
    },
    {
      "cell_type": "code",
      "metadata": {
        "colab": {
          "base_uri": "https://localhost:8080/"
        },
        "id": "_oS0T5daPzds",
        "outputId": "9a11d468-0fcc-4d62-c117-39121a3d608e"
      },
      "source": [
        "# addition and subtraction of matrices\n",
        "a = np.array([[-5,0],[4,1]]) \n",
        "b = np.array([[6,-3],[2,3]])\n",
        "print(a+b)\n",
        "print(a-b)\n",
        "print(b-b)"
      ],
      "execution_count": 16,
      "outputs": [
        {
          "output_type": "stream",
          "name": "stdout",
          "text": [
            "[[ 1 -3]\n",
            " [ 6  4]]\n",
            "[[-11   3]\n",
            " [  2  -2]]\n",
            "[[0 0]\n",
            " [0 0]]\n"
          ]
        }
      ]
    },
    {
      "cell_type": "markdown",
      "metadata": {
        "id": "Q8p8wLZWQOCH"
      },
      "source": [
        "sum of matrices "
      ]
    },
    {
      "cell_type": "code",
      "metadata": {
        "colab": {
          "base_uri": "https://localhost:8080/"
        },
        "id": "OBz4I0YEQPt_",
        "outputId": "477652f8-5f4a-4e3f-e2fb-bde3764bbc0c"
      },
      "source": [
        "sum = a+b\n",
        "print (sum)"
      ],
      "execution_count": 17,
      "outputs": [
        {
          "output_type": "stream",
          "name": "stdout",
          "text": [
            "[[ 1 -3]\n",
            " [ 6  4]]\n"
          ]
        }
      ]
    },
    {
      "cell_type": "markdown",
      "metadata": {
        "id": "Yc0jIcPpQgT_"
      },
      "source": [
        "difference of matrices\n"
      ]
    },
    {
      "cell_type": "code",
      "metadata": {
        "colab": {
          "base_uri": "https://localhost:8080/"
        },
        "id": "roUy-KVPQizA",
        "outputId": "1f290c73-97cd-4483-f189-ecc7d69dcfa2"
      },
      "source": [
        "# diff 1\n",
        "diff = a-b\n",
        "print (diff)\n",
        "\n",
        "# diff 2\n",
        "diff = b-b\n",
        "print (diff)\n"
      ],
      "execution_count": 19,
      "outputs": [
        {
          "output_type": "stream",
          "name": "stdout",
          "text": [
            "[[-11   3]\n",
            " [  2  -2]]\n",
            "[[0 0]\n",
            " [0 0]]\n"
          ]
        }
      ]
    }
  ]
}